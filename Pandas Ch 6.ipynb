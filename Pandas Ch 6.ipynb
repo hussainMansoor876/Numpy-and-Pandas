{
 "cells": [
  {
   "cell_type": "markdown",
   "metadata": {},
   "source": [
    "## Data Loading, Storage, and File Formats"
   ]
  },
  {
   "cell_type": "code",
   "execution_count": null,
   "metadata": {},
   "outputs": [],
   "source": [
    "import os\n",
    "a = os.listdir('.')\n",
    "a"
   ]
  },
  {
   "cell_type": "code",
   "execution_count": 2,
   "metadata": {},
   "outputs": [],
   "source": [
    "import pandas as pd"
   ]
  },
  {
   "cell_type": "markdown",
   "metadata": {},
   "source": [
    "# read_csv"
   ]
  },
  {
   "cell_type": "markdown",
   "metadata": {},
   "source": [
    "Load delimited data from a file, URL, or file-like object; use comma as default delimiter"
   ]
  },
  {
   "cell_type": "code",
   "execution_count": 3,
   "metadata": {},
   "outputs": [
    {
     "data": {
      "text/html": [
       "<div>\n",
       "<style scoped>\n",
       "    .dataframe tbody tr th:only-of-type {\n",
       "        vertical-align: middle;\n",
       "    }\n",
       "\n",
       "    .dataframe tbody tr th {\n",
       "        vertical-align: top;\n",
       "    }\n",
       "\n",
       "    .dataframe thead th {\n",
       "        text-align: right;\n",
       "    }\n",
       "</style>\n",
       "<table border=\"1\" class=\"dataframe\">\n",
       "  <thead>\n",
       "    <tr style=\"text-align: right;\">\n",
       "      <th></th>\n",
       "      <th>Unnamed: 0</th>\n",
       "      <th>State</th>\n",
       "      <th>ZipCode</th>\n",
       "      <th>TaxRegionName</th>\n",
       "      <th>StateRate</th>\n",
       "      <th>EstimatedCombinedRate</th>\n",
       "      <th>EstimatedCountyRate</th>\n",
       "      <th>EstimatedCityRate</th>\n",
       "      <th>EstimatedSpecialRate</th>\n",
       "      <th>RiskLevel</th>\n",
       "    </tr>\n",
       "  </thead>\n",
       "  <tbody>\n",
       "    <tr>\n",
       "      <th>0</th>\n",
       "      <td>0</td>\n",
       "      <td>AK</td>\n",
       "      <td>one</td>\n",
       "      <td>ANCHORAGE BOROUGH</td>\n",
       "      <td>0.0</td>\n",
       "      <td>0.0</td>\n",
       "      <td>0.0</td>\n",
       "      <td>NaN</td>\n",
       "      <td>0.0</td>\n",
       "      <td>1</td>\n",
       "    </tr>\n",
       "    <tr>\n",
       "      <th>1</th>\n",
       "      <td>1</td>\n",
       "      <td>AK</td>\n",
       "      <td>one</td>\n",
       "      <td>ANCHORAGE BOROUGH</td>\n",
       "      <td>0.0</td>\n",
       "      <td>NaN</td>\n",
       "      <td>0.0</td>\n",
       "      <td>0.0</td>\n",
       "      <td>0.0</td>\n",
       "      <td>2</td>\n",
       "    </tr>\n",
       "    <tr>\n",
       "      <th>2</th>\n",
       "      <td>2</td>\n",
       "      <td>AK</td>\n",
       "      <td>two</td>\n",
       "      <td>ANCHORAGE BOROUGH</td>\n",
       "      <td>0.0</td>\n",
       "      <td>0.0</td>\n",
       "      <td>NaN</td>\n",
       "      <td>0.0</td>\n",
       "      <td>NaN</td>\n",
       "      <td>3</td>\n",
       "    </tr>\n",
       "    <tr>\n",
       "      <th>3</th>\n",
       "      <td>3</td>\n",
       "      <td>AK</td>\n",
       "      <td>two</td>\n",
       "      <td>ANCHORAGE BOROUGH</td>\n",
       "      <td>NaN</td>\n",
       "      <td>0.0</td>\n",
       "      <td>0.0</td>\n",
       "      <td>0.0</td>\n",
       "      <td>0.0</td>\n",
       "      <td>4</td>\n",
       "    </tr>\n",
       "  </tbody>\n",
       "</table>\n",
       "</div>"
      ],
      "text/plain": [
       "   Unnamed: 0 State ZipCode      TaxRegionName  StateRate  \\\n",
       "0           0    AK     one  ANCHORAGE BOROUGH        0.0   \n",
       "1           1    AK     one  ANCHORAGE BOROUGH        0.0   \n",
       "2           2    AK     two  ANCHORAGE BOROUGH        0.0   \n",
       "3           3    AK     two  ANCHORAGE BOROUGH        NaN   \n",
       "\n",
       "   EstimatedCombinedRate  EstimatedCountyRate  EstimatedCityRate  \\\n",
       "0                    0.0                  0.0                NaN   \n",
       "1                    NaN                  0.0                0.0   \n",
       "2                    0.0                  NaN                0.0   \n",
       "3                    0.0                  0.0                0.0   \n",
       "\n",
       "   EstimatedSpecialRate  RiskLevel  \n",
       "0                   0.0          1  \n",
       "1                   0.0          2  \n",
       "2                   NaN          3  \n",
       "3                   0.0          4  "
      ]
     },
     "execution_count": 3,
     "metadata": {},
     "output_type": "execute_result"
    }
   ],
   "source": [
    "data = pd.read_csv('TAXRATES1.csv')\n",
    "data"
   ]
  },
  {
   "cell_type": "code",
   "execution_count": 4,
   "metadata": {},
   "outputs": [
    {
     "data": {
      "text/html": [
       "<div>\n",
       "<style scoped>\n",
       "    .dataframe tbody tr th:only-of-type {\n",
       "        vertical-align: middle;\n",
       "    }\n",
       "\n",
       "    .dataframe tbody tr th {\n",
       "        vertical-align: top;\n",
       "    }\n",
       "\n",
       "    .dataframe thead th {\n",
       "        text-align: right;\n",
       "    }\n",
       "</style>\n",
       "<table border=\"1\" class=\"dataframe\">\n",
       "  <thead>\n",
       "    <tr style=\"text-align: right;\">\n",
       "      <th></th>\n",
       "      <th>0</th>\n",
       "      <th>1</th>\n",
       "      <th>2</th>\n",
       "      <th>3</th>\n",
       "      <th>4</th>\n",
       "      <th>5</th>\n",
       "      <th>6</th>\n",
       "      <th>7</th>\n",
       "      <th>8</th>\n",
       "      <th>9</th>\n",
       "    </tr>\n",
       "  </thead>\n",
       "  <tbody>\n",
       "    <tr>\n",
       "      <th>0</th>\n",
       "      <td>NaN</td>\n",
       "      <td>State</td>\n",
       "      <td>ZipCode</td>\n",
       "      <td>TaxRegionName</td>\n",
       "      <td>StateRate</td>\n",
       "      <td>EstimatedCombinedRate</td>\n",
       "      <td>EstimatedCountyRate</td>\n",
       "      <td>EstimatedCityRate</td>\n",
       "      <td>EstimatedSpecialRate</td>\n",
       "      <td>RiskLevel</td>\n",
       "    </tr>\n",
       "    <tr>\n",
       "      <th>1</th>\n",
       "      <td>0.0</td>\n",
       "      <td>AK</td>\n",
       "      <td>one</td>\n",
       "      <td>ANCHORAGE BOROUGH</td>\n",
       "      <td>0</td>\n",
       "      <td>0</td>\n",
       "      <td>0</td>\n",
       "      <td>NaN</td>\n",
       "      <td>0</td>\n",
       "      <td>1</td>\n",
       "    </tr>\n",
       "    <tr>\n",
       "      <th>2</th>\n",
       "      <td>1.0</td>\n",
       "      <td>AK</td>\n",
       "      <td>one</td>\n",
       "      <td>ANCHORAGE BOROUGH</td>\n",
       "      <td>0</td>\n",
       "      <td>NaN</td>\n",
       "      <td>0</td>\n",
       "      <td>0</td>\n",
       "      <td>0</td>\n",
       "      <td>2</td>\n",
       "    </tr>\n",
       "    <tr>\n",
       "      <th>3</th>\n",
       "      <td>2.0</td>\n",
       "      <td>AK</td>\n",
       "      <td>two</td>\n",
       "      <td>ANCHORAGE BOROUGH</td>\n",
       "      <td>0</td>\n",
       "      <td>0</td>\n",
       "      <td>NaN</td>\n",
       "      <td>0</td>\n",
       "      <td>NaN</td>\n",
       "      <td>3</td>\n",
       "    </tr>\n",
       "    <tr>\n",
       "      <th>4</th>\n",
       "      <td>3.0</td>\n",
       "      <td>AK</td>\n",
       "      <td>two</td>\n",
       "      <td>ANCHORAGE BOROUGH</td>\n",
       "      <td>NaN</td>\n",
       "      <td>0</td>\n",
       "      <td>0</td>\n",
       "      <td>0</td>\n",
       "      <td>0</td>\n",
       "      <td>4</td>\n",
       "    </tr>\n",
       "  </tbody>\n",
       "</table>\n",
       "</div>"
      ],
      "text/plain": [
       "     0      1        2                  3          4                      5  \\\n",
       "0  NaN  State  ZipCode      TaxRegionName  StateRate  EstimatedCombinedRate   \n",
       "1  0.0     AK      one  ANCHORAGE BOROUGH          0                      0   \n",
       "2  1.0     AK      one  ANCHORAGE BOROUGH          0                    NaN   \n",
       "3  2.0     AK      two  ANCHORAGE BOROUGH          0                      0   \n",
       "4  3.0     AK      two  ANCHORAGE BOROUGH        NaN                      0   \n",
       "\n",
       "                     6                  7                     8          9  \n",
       "0  EstimatedCountyRate  EstimatedCityRate  EstimatedSpecialRate  RiskLevel  \n",
       "1                    0                NaN                     0          1  \n",
       "2                    0                  0                     0          2  \n",
       "3                  NaN                  0                   NaN          3  \n",
       "4                    0                  0                     0          4  "
      ]
     },
     "execution_count": 4,
     "metadata": {},
     "output_type": "execute_result"
    }
   ],
   "source": [
    "pd.read_csv('TAXRATES1.csv', header=None) # for Default column names"
   ]
  },
  {
   "cell_type": "code",
   "execution_count": 5,
   "metadata": {},
   "outputs": [
    {
     "data": {
      "text/html": [
       "<div>\n",
       "<style scoped>\n",
       "    .dataframe tbody tr th:only-of-type {\n",
       "        vertical-align: middle;\n",
       "    }\n",
       "\n",
       "    .dataframe tbody tr th {\n",
       "        vertical-align: top;\n",
       "    }\n",
       "\n",
       "    .dataframe thead th {\n",
       "        text-align: right;\n",
       "    }\n",
       "</style>\n",
       "<table border=\"1\" class=\"dataframe\">\n",
       "  <thead>\n",
       "    <tr style=\"text-align: right;\">\n",
       "      <th></th>\n",
       "      <th>a</th>\n",
       "      <th>b</th>\n",
       "      <th>c</th>\n",
       "      <th>d</th>\n",
       "      <th>e</th>\n",
       "      <th>f</th>\n",
       "      <th>g</th>\n",
       "      <th>h</th>\n",
       "      <th>i</th>\n",
       "      <th>j</th>\n",
       "    </tr>\n",
       "  </thead>\n",
       "  <tbody>\n",
       "    <tr>\n",
       "      <th>0</th>\n",
       "      <td>NaN</td>\n",
       "      <td>State</td>\n",
       "      <td>ZipCode</td>\n",
       "      <td>TaxRegionName</td>\n",
       "      <td>StateRate</td>\n",
       "      <td>EstimatedCombinedRate</td>\n",
       "      <td>EstimatedCountyRate</td>\n",
       "      <td>EstimatedCityRate</td>\n",
       "      <td>EstimatedSpecialRate</td>\n",
       "      <td>RiskLevel</td>\n",
       "    </tr>\n",
       "    <tr>\n",
       "      <th>1</th>\n",
       "      <td>0.0</td>\n",
       "      <td>AK</td>\n",
       "      <td>one</td>\n",
       "      <td>ANCHORAGE BOROUGH</td>\n",
       "      <td>0</td>\n",
       "      <td>0</td>\n",
       "      <td>0</td>\n",
       "      <td>NaN</td>\n",
       "      <td>0</td>\n",
       "      <td>1</td>\n",
       "    </tr>\n",
       "    <tr>\n",
       "      <th>2</th>\n",
       "      <td>1.0</td>\n",
       "      <td>AK</td>\n",
       "      <td>one</td>\n",
       "      <td>ANCHORAGE BOROUGH</td>\n",
       "      <td>0</td>\n",
       "      <td>NaN</td>\n",
       "      <td>0</td>\n",
       "      <td>0</td>\n",
       "      <td>0</td>\n",
       "      <td>2</td>\n",
       "    </tr>\n",
       "    <tr>\n",
       "      <th>3</th>\n",
       "      <td>2.0</td>\n",
       "      <td>AK</td>\n",
       "      <td>two</td>\n",
       "      <td>ANCHORAGE BOROUGH</td>\n",
       "      <td>0</td>\n",
       "      <td>0</td>\n",
       "      <td>NaN</td>\n",
       "      <td>0</td>\n",
       "      <td>NaN</td>\n",
       "      <td>3</td>\n",
       "    </tr>\n",
       "    <tr>\n",
       "      <th>4</th>\n",
       "      <td>3.0</td>\n",
       "      <td>AK</td>\n",
       "      <td>two</td>\n",
       "      <td>ANCHORAGE BOROUGH</td>\n",
       "      <td>NaN</td>\n",
       "      <td>0</td>\n",
       "      <td>0</td>\n",
       "      <td>0</td>\n",
       "      <td>0</td>\n",
       "      <td>4</td>\n",
       "    </tr>\n",
       "  </tbody>\n",
       "</table>\n",
       "</div>"
      ],
      "text/plain": [
       "     a      b        c                  d          e                      f  \\\n",
       "0  NaN  State  ZipCode      TaxRegionName  StateRate  EstimatedCombinedRate   \n",
       "1  0.0     AK      one  ANCHORAGE BOROUGH          0                      0   \n",
       "2  1.0     AK      one  ANCHORAGE BOROUGH          0                    NaN   \n",
       "3  2.0     AK      two  ANCHORAGE BOROUGH          0                      0   \n",
       "4  3.0     AK      two  ANCHORAGE BOROUGH        NaN                      0   \n",
       "\n",
       "                     g                  h                     i          j  \n",
       "0  EstimatedCountyRate  EstimatedCityRate  EstimatedSpecialRate  RiskLevel  \n",
       "1                    0                NaN                     0          1  \n",
       "2                    0                  0                     0          2  \n",
       "3                  NaN                  0                   NaN          3  \n",
       "4                    0                  0                     0          4  "
      ]
     },
     "execution_count": 5,
     "metadata": {},
     "output_type": "execute_result"
    }
   ],
   "source": [
    "pd.read_csv('TAXRATES1.csv', names=['a', 'b', 'c', 'd', 'e', 'f', 'g', 'h', 'i', 'j']) # for custom columns"
   ]
  },
  {
   "cell_type": "code",
   "execution_count": 6,
   "metadata": {},
   "outputs": [
    {
     "data": {
      "text/html": [
       "<div>\n",
       "<style scoped>\n",
       "    .dataframe tbody tr th:only-of-type {\n",
       "        vertical-align: middle;\n",
       "    }\n",
       "\n",
       "    .dataframe tbody tr th {\n",
       "        vertical-align: top;\n",
       "    }\n",
       "\n",
       "    .dataframe thead th {\n",
       "        text-align: right;\n",
       "    }\n",
       "</style>\n",
       "<table border=\"1\" class=\"dataframe\">\n",
       "  <thead>\n",
       "    <tr style=\"text-align: right;\">\n",
       "      <th></th>\n",
       "      <th>a</th>\n",
       "      <th>b</th>\n",
       "      <th>c</th>\n",
       "      <th>d</th>\n",
       "      <th>e</th>\n",
       "      <th>f</th>\n",
       "      <th>g</th>\n",
       "      <th>h</th>\n",
       "      <th>i</th>\n",
       "    </tr>\n",
       "    <tr>\n",
       "      <th>j</th>\n",
       "      <th></th>\n",
       "      <th></th>\n",
       "      <th></th>\n",
       "      <th></th>\n",
       "      <th></th>\n",
       "      <th></th>\n",
       "      <th></th>\n",
       "      <th></th>\n",
       "      <th></th>\n",
       "    </tr>\n",
       "  </thead>\n",
       "  <tbody>\n",
       "    <tr>\n",
       "      <th>RiskLevel</th>\n",
       "      <td>NaN</td>\n",
       "      <td>State</td>\n",
       "      <td>ZipCode</td>\n",
       "      <td>TaxRegionName</td>\n",
       "      <td>StateRate</td>\n",
       "      <td>EstimatedCombinedRate</td>\n",
       "      <td>EstimatedCountyRate</td>\n",
       "      <td>EstimatedCityRate</td>\n",
       "      <td>EstimatedSpecialRate</td>\n",
       "    </tr>\n",
       "    <tr>\n",
       "      <th>1</th>\n",
       "      <td>0.0</td>\n",
       "      <td>AK</td>\n",
       "      <td>one</td>\n",
       "      <td>ANCHORAGE BOROUGH</td>\n",
       "      <td>0</td>\n",
       "      <td>0</td>\n",
       "      <td>0</td>\n",
       "      <td>NaN</td>\n",
       "      <td>0</td>\n",
       "    </tr>\n",
       "    <tr>\n",
       "      <th>2</th>\n",
       "      <td>1.0</td>\n",
       "      <td>AK</td>\n",
       "      <td>one</td>\n",
       "      <td>ANCHORAGE BOROUGH</td>\n",
       "      <td>0</td>\n",
       "      <td>NaN</td>\n",
       "      <td>0</td>\n",
       "      <td>0</td>\n",
       "      <td>0</td>\n",
       "    </tr>\n",
       "    <tr>\n",
       "      <th>3</th>\n",
       "      <td>2.0</td>\n",
       "      <td>AK</td>\n",
       "      <td>two</td>\n",
       "      <td>ANCHORAGE BOROUGH</td>\n",
       "      <td>0</td>\n",
       "      <td>0</td>\n",
       "      <td>NaN</td>\n",
       "      <td>0</td>\n",
       "      <td>NaN</td>\n",
       "    </tr>\n",
       "    <tr>\n",
       "      <th>4</th>\n",
       "      <td>3.0</td>\n",
       "      <td>AK</td>\n",
       "      <td>two</td>\n",
       "      <td>ANCHORAGE BOROUGH</td>\n",
       "      <td>NaN</td>\n",
       "      <td>0</td>\n",
       "      <td>0</td>\n",
       "      <td>0</td>\n",
       "      <td>0</td>\n",
       "    </tr>\n",
       "  </tbody>\n",
       "</table>\n",
       "</div>"
      ],
      "text/plain": [
       "             a      b        c                  d          e  \\\n",
       "j                                                              \n",
       "RiskLevel  NaN  State  ZipCode      TaxRegionName  StateRate   \n",
       "1          0.0     AK      one  ANCHORAGE BOROUGH          0   \n",
       "2          1.0     AK      one  ANCHORAGE BOROUGH          0   \n",
       "3          2.0     AK      two  ANCHORAGE BOROUGH          0   \n",
       "4          3.0     AK      two  ANCHORAGE BOROUGH        NaN   \n",
       "\n",
       "                               f                    g                  h  \\\n",
       "j                                                                          \n",
       "RiskLevel  EstimatedCombinedRate  EstimatedCountyRate  EstimatedCityRate   \n",
       "1                              0                    0                NaN   \n",
       "2                            NaN                    0                  0   \n",
       "3                              0                  NaN                  0   \n",
       "4                              0                    0                  0   \n",
       "\n",
       "                              i  \n",
       "j                                \n",
       "RiskLevel  EstimatedSpecialRate  \n",
       "1                             0  \n",
       "2                             0  \n",
       "3                           NaN  \n",
       "4                             0  "
      ]
     },
     "execution_count": 6,
     "metadata": {},
     "output_type": "execute_result"
    }
   ],
   "source": [
    "pd.read_csv('TAXRATES1.csv', names=['a', 'b', 'c', 'd', 'e', 'f', 'g', 'h', 'i', 'j'], index_col='j') # Indexing through any column"
   ]
  },
  {
   "cell_type": "code",
   "execution_count": 7,
   "metadata": {},
   "outputs": [
    {
     "data": {
      "text/html": [
       "<div>\n",
       "<style scoped>\n",
       "    .dataframe tbody tr th:only-of-type {\n",
       "        vertical-align: middle;\n",
       "    }\n",
       "\n",
       "    .dataframe tbody tr th {\n",
       "        vertical-align: top;\n",
       "    }\n",
       "\n",
       "    .dataframe thead th {\n",
       "        text-align: right;\n",
       "    }\n",
       "</style>\n",
       "<table border=\"1\" class=\"dataframe\">\n",
       "  <thead>\n",
       "    <tr style=\"text-align: right;\">\n",
       "      <th></th>\n",
       "      <th></th>\n",
       "      <th>Unnamed: 0</th>\n",
       "      <th>State</th>\n",
       "      <th>TaxRegionName</th>\n",
       "      <th>StateRate</th>\n",
       "      <th>EstimatedCombinedRate</th>\n",
       "      <th>EstimatedCountyRate</th>\n",
       "      <th>EstimatedCityRate</th>\n",
       "      <th>EstimatedSpecialRate</th>\n",
       "    </tr>\n",
       "    <tr>\n",
       "      <th>ZipCode</th>\n",
       "      <th>RiskLevel</th>\n",
       "      <th></th>\n",
       "      <th></th>\n",
       "      <th></th>\n",
       "      <th></th>\n",
       "      <th></th>\n",
       "      <th></th>\n",
       "      <th></th>\n",
       "      <th></th>\n",
       "    </tr>\n",
       "  </thead>\n",
       "  <tbody>\n",
       "    <tr>\n",
       "      <th rowspan=\"2\" valign=\"top\">one</th>\n",
       "      <th>1</th>\n",
       "      <td>0</td>\n",
       "      <td>AK</td>\n",
       "      <td>ANCHORAGE BOROUGH</td>\n",
       "      <td>0.0</td>\n",
       "      <td>0.0</td>\n",
       "      <td>0.0</td>\n",
       "      <td>NaN</td>\n",
       "      <td>0.0</td>\n",
       "    </tr>\n",
       "    <tr>\n",
       "      <th>2</th>\n",
       "      <td>1</td>\n",
       "      <td>AK</td>\n",
       "      <td>ANCHORAGE BOROUGH</td>\n",
       "      <td>0.0</td>\n",
       "      <td>NaN</td>\n",
       "      <td>0.0</td>\n",
       "      <td>0.0</td>\n",
       "      <td>0.0</td>\n",
       "    </tr>\n",
       "    <tr>\n",
       "      <th rowspan=\"2\" valign=\"top\">two</th>\n",
       "      <th>3</th>\n",
       "      <td>2</td>\n",
       "      <td>AK</td>\n",
       "      <td>ANCHORAGE BOROUGH</td>\n",
       "      <td>0.0</td>\n",
       "      <td>0.0</td>\n",
       "      <td>NaN</td>\n",
       "      <td>0.0</td>\n",
       "      <td>NaN</td>\n",
       "    </tr>\n",
       "    <tr>\n",
       "      <th>4</th>\n",
       "      <td>3</td>\n",
       "      <td>AK</td>\n",
       "      <td>ANCHORAGE BOROUGH</td>\n",
       "      <td>NaN</td>\n",
       "      <td>0.0</td>\n",
       "      <td>0.0</td>\n",
       "      <td>0.0</td>\n",
       "      <td>0.0</td>\n",
       "    </tr>\n",
       "  </tbody>\n",
       "</table>\n",
       "</div>"
      ],
      "text/plain": [
       "                   Unnamed: 0 State      TaxRegionName  StateRate  \\\n",
       "ZipCode RiskLevel                                                   \n",
       "one     1                   0    AK  ANCHORAGE BOROUGH        0.0   \n",
       "        2                   1    AK  ANCHORAGE BOROUGH        0.0   \n",
       "two     3                   2    AK  ANCHORAGE BOROUGH        0.0   \n",
       "        4                   3    AK  ANCHORAGE BOROUGH        NaN   \n",
       "\n",
       "                   EstimatedCombinedRate  EstimatedCountyRate  \\\n",
       "ZipCode RiskLevel                                               \n",
       "one     1                            0.0                  0.0   \n",
       "        2                            NaN                  0.0   \n",
       "two     3                            0.0                  NaN   \n",
       "        4                            0.0                  0.0   \n",
       "\n",
       "                   EstimatedCityRate  EstimatedSpecialRate  \n",
       "ZipCode RiskLevel                                           \n",
       "one     1                        NaN                   0.0  \n",
       "        2                        0.0                   0.0  \n",
       "two     3                        0.0                   NaN  \n",
       "        4                        0.0                   0.0  "
      ]
     },
     "execution_count": 7,
     "metadata": {},
     "output_type": "execute_result"
    }
   ],
   "source": [
    "pd.read_csv('TAXRATES1.csv', index_col=['ZipCode','RiskLevel']) # Indexing multiple columns"
   ]
  },
  {
   "cell_type": "code",
   "execution_count": 8,
   "metadata": {},
   "outputs": [
    {
     "data": {
      "text/html": [
       "<div>\n",
       "<style scoped>\n",
       "    .dataframe tbody tr th:only-of-type {\n",
       "        vertical-align: middle;\n",
       "    }\n",
       "\n",
       "    .dataframe tbody tr th {\n",
       "        vertical-align: top;\n",
       "    }\n",
       "\n",
       "    .dataframe thead th {\n",
       "        text-align: right;\n",
       "    }\n",
       "</style>\n",
       "<table border=\"1\" class=\"dataframe\">\n",
       "  <thead>\n",
       "    <tr style=\"text-align: right;\">\n",
       "      <th></th>\n",
       "      <th>Unnamed: 0</th>\n",
       "      <th>State</th>\n",
       "      <th>ZipCode</th>\n",
       "      <th>TaxRegionName</th>\n",
       "      <th>StateRate</th>\n",
       "      <th>EstimatedCombinedRate</th>\n",
       "      <th>EstimatedCountyRate</th>\n",
       "      <th>EstimatedCityRate</th>\n",
       "      <th>EstimatedSpecialRate</th>\n",
       "      <th>RiskLevel</th>\n",
       "    </tr>\n",
       "  </thead>\n",
       "  <tbody>\n",
       "    <tr>\n",
       "      <th>0</th>\n",
       "      <td>False</td>\n",
       "      <td>False</td>\n",
       "      <td>False</td>\n",
       "      <td>False</td>\n",
       "      <td>False</td>\n",
       "      <td>False</td>\n",
       "      <td>False</td>\n",
       "      <td>True</td>\n",
       "      <td>False</td>\n",
       "      <td>False</td>\n",
       "    </tr>\n",
       "    <tr>\n",
       "      <th>1</th>\n",
       "      <td>False</td>\n",
       "      <td>False</td>\n",
       "      <td>False</td>\n",
       "      <td>False</td>\n",
       "      <td>False</td>\n",
       "      <td>True</td>\n",
       "      <td>False</td>\n",
       "      <td>False</td>\n",
       "      <td>False</td>\n",
       "      <td>False</td>\n",
       "    </tr>\n",
       "    <tr>\n",
       "      <th>2</th>\n",
       "      <td>False</td>\n",
       "      <td>False</td>\n",
       "      <td>False</td>\n",
       "      <td>False</td>\n",
       "      <td>False</td>\n",
       "      <td>False</td>\n",
       "      <td>True</td>\n",
       "      <td>False</td>\n",
       "      <td>True</td>\n",
       "      <td>False</td>\n",
       "    </tr>\n",
       "    <tr>\n",
       "      <th>3</th>\n",
       "      <td>False</td>\n",
       "      <td>False</td>\n",
       "      <td>False</td>\n",
       "      <td>False</td>\n",
       "      <td>True</td>\n",
       "      <td>False</td>\n",
       "      <td>False</td>\n",
       "      <td>False</td>\n",
       "      <td>False</td>\n",
       "      <td>False</td>\n",
       "    </tr>\n",
       "  </tbody>\n",
       "</table>\n",
       "</div>"
      ],
      "text/plain": [
       "   Unnamed: 0  State  ZipCode  TaxRegionName  StateRate  \\\n",
       "0       False  False    False          False      False   \n",
       "1       False  False    False          False      False   \n",
       "2       False  False    False          False      False   \n",
       "3       False  False    False          False       True   \n",
       "\n",
       "   EstimatedCombinedRate  EstimatedCountyRate  EstimatedCityRate  \\\n",
       "0                  False                False               True   \n",
       "1                   True                False              False   \n",
       "2                  False                 True              False   \n",
       "3                  False                False              False   \n",
       "\n",
       "   EstimatedSpecialRate  RiskLevel  \n",
       "0                 False      False  \n",
       "1                 False      False  \n",
       "2                  True      False  \n",
       "3                 False      False  "
      ]
     },
     "execution_count": 8,
     "metadata": {},
     "output_type": "execute_result"
    }
   ],
   "source": [
    "pd.isnull(data) #if null return True else False"
   ]
  },
  {
   "cell_type": "code",
   "execution_count": 9,
   "metadata": {},
   "outputs": [
    {
     "data": {
      "text/html": [
       "<div>\n",
       "<style scoped>\n",
       "    .dataframe tbody tr th:only-of-type {\n",
       "        vertical-align: middle;\n",
       "    }\n",
       "\n",
       "    .dataframe tbody tr th {\n",
       "        vertical-align: top;\n",
       "    }\n",
       "\n",
       "    .dataframe thead th {\n",
       "        text-align: right;\n",
       "    }\n",
       "</style>\n",
       "<table border=\"1\" class=\"dataframe\">\n",
       "  <thead>\n",
       "    <tr style=\"text-align: right;\">\n",
       "      <th></th>\n",
       "      <th>Unnamed: 0</th>\n",
       "      <th>State</th>\n",
       "      <th>ZipCode</th>\n",
       "      <th>TaxRegionName</th>\n",
       "      <th>StateRate</th>\n",
       "      <th>EstimatedCombinedRate</th>\n",
       "      <th>EstimatedCountyRate</th>\n",
       "      <th>EstimatedCityRate</th>\n",
       "      <th>EstimatedSpecialRate</th>\n",
       "      <th>RiskLevel</th>\n",
       "    </tr>\n",
       "  </thead>\n",
       "  <tbody>\n",
       "    <tr>\n",
       "      <th>0</th>\n",
       "      <td>NaN</td>\n",
       "      <td>AK</td>\n",
       "      <td>one</td>\n",
       "      <td>ANCHORAGE BOROUGH</td>\n",
       "      <td>NaN</td>\n",
       "      <td>NaN</td>\n",
       "      <td>NaN</td>\n",
       "      <td>NaN</td>\n",
       "      <td>NaN</td>\n",
       "      <td>1</td>\n",
       "    </tr>\n",
       "    <tr>\n",
       "      <th>1</th>\n",
       "      <td>1.0</td>\n",
       "      <td>AK</td>\n",
       "      <td>one</td>\n",
       "      <td>ANCHORAGE BOROUGH</td>\n",
       "      <td>NaN</td>\n",
       "      <td>NaN</td>\n",
       "      <td>NaN</td>\n",
       "      <td>NaN</td>\n",
       "      <td>NaN</td>\n",
       "      <td>2</td>\n",
       "    </tr>\n",
       "    <tr>\n",
       "      <th>2</th>\n",
       "      <td>2.0</td>\n",
       "      <td>AK</td>\n",
       "      <td>two</td>\n",
       "      <td>ANCHORAGE BOROUGH</td>\n",
       "      <td>NaN</td>\n",
       "      <td>NaN</td>\n",
       "      <td>NaN</td>\n",
       "      <td>NaN</td>\n",
       "      <td>NaN</td>\n",
       "      <td>3</td>\n",
       "    </tr>\n",
       "    <tr>\n",
       "      <th>3</th>\n",
       "      <td>3.0</td>\n",
       "      <td>AK</td>\n",
       "      <td>two</td>\n",
       "      <td>ANCHORAGE BOROUGH</td>\n",
       "      <td>NaN</td>\n",
       "      <td>NaN</td>\n",
       "      <td>NaN</td>\n",
       "      <td>NaN</td>\n",
       "      <td>NaN</td>\n",
       "      <td>4</td>\n",
       "    </tr>\n",
       "  </tbody>\n",
       "</table>\n",
       "</div>"
      ],
      "text/plain": [
       "   Unnamed: 0 State ZipCode      TaxRegionName  StateRate  \\\n",
       "0         NaN    AK     one  ANCHORAGE BOROUGH        NaN   \n",
       "1         1.0    AK     one  ANCHORAGE BOROUGH        NaN   \n",
       "2         2.0    AK     two  ANCHORAGE BOROUGH        NaN   \n",
       "3         3.0    AK     two  ANCHORAGE BOROUGH        NaN   \n",
       "\n",
       "   EstimatedCombinedRate  EstimatedCountyRate  EstimatedCityRate  \\\n",
       "0                    NaN                  NaN                NaN   \n",
       "1                    NaN                  NaN                NaN   \n",
       "2                    NaN                  NaN                NaN   \n",
       "3                    NaN                  NaN                NaN   \n",
       "\n",
       "   EstimatedSpecialRate  RiskLevel  \n",
       "0                   NaN          1  \n",
       "1                   NaN          2  \n",
       "2                   NaN          3  \n",
       "3                   NaN          4  "
      ]
     },
     "execution_count": 9,
     "metadata": {},
     "output_type": "execute_result"
    }
   ],
   "source": [
    "pd.read_csv('TAXRATES1.csv', na_values=[0]) #na_values m jo bhi data do agar exist krta ho to to wo null m conevrt krdeta hai"
   ]
  },
  {
   "cell_type": "markdown",
   "metadata": {},
   "source": [
    "# path \n",
    "String indicating filesystem location, URL, or file-like object"
   ]
  },
  {
   "cell_type": "markdown",
   "metadata": {},
   "source": [
    "# sep or delimiter \n",
    "Character sequence or regular expression to use to split fields in each row"
   ]
  },
  {
   "cell_type": "markdown",
   "metadata": {},
   "source": [
    "# header \n",
    "Row number to use as column names; defaults to 0 (first row), but should be None if there is no\n",
    "header row"
   ]
  },
  {
   "cell_type": "markdown",
   "metadata": {},
   "source": [
    "# index_col \n",
    "Column numbers or names to use as the row index in the result; can be a single name/number or a\n",
    "list of them for a hierarchical index"
   ]
  },
  {
   "cell_type": "markdown",
   "metadata": {},
   "source": [
    "# names \n",
    "List of column names for result, combine with header=None"
   ]
  },
  {
   "cell_type": "markdown",
   "metadata": {},
   "source": [
    "# skiprows \n",
    "Number of rows at beginning of file to ignore or list of row numbers (starting from 0) to skip."
   ]
  },
  {
   "cell_type": "markdown",
   "metadata": {},
   "source": [
    "# na_values \n",
    "Sequence of values to replace with NA.\n",
    "# comment \n",
    "Character(s) to split comments off the end of lines."
   ]
  },
  {
   "cell_type": "markdown",
   "metadata": {},
   "source": [
    "# parse_dates \n",
    "Attempt to parse data to datetime; False by default. If True, will attempt to parse all columns.\n",
    "Otherwise can specify a list of column numbers or name to parse. If element of list is tuple or list, will\n",
    "combine multiple columns together and parse to date (e.g., if date/time split across two columns)."
   ]
  },
  {
   "cell_type": "markdown",
   "metadata": {},
   "source": [
    "# keep_date_col \n",
    "If joining columns to parse date, keep the joined columns; False by default.\n",
    "# converters \n",
    "Dict containing column number of name mapping to functions (e.g., {'foo': f} would apply the\n",
    "function f to all values in the 'foo' column)."
   ]
  },
  {
   "cell_type": "markdown",
   "metadata": {},
   "source": [
    "# dayfirst \n",
    "When parsing potentially ambiguous dates, treat as international format (e.g., 7/6/2012 -> June 7,\n",
    "2012); False by default.\n",
    "# date_parser \n",
    "Function to use to parse dates."
   ]
  },
  {
   "cell_type": "markdown",
   "metadata": {},
   "source": [
    "# nrows \n",
    "Number of rows to read from beginning of file.\n",
    "# iterator \n",
    "Return a TextParser object for reading file piecemeal."
   ]
  },
  {
   "cell_type": "markdown",
   "metadata": {},
   "source": [
    "# chunksize \n",
    "For iteration, size of file chunks.\n",
    "# skip_footer \n",
    "Number of lines to ignore at end of file."
   ]
  },
  {
   "cell_type": "markdown",
   "metadata": {},
   "source": [
    "# verbose \n",
    "Print various parser output information, like the number of missing values placed in non-numeric\n",
    "# encoding \n",
    "Text encoding for Unicode (e.g., 'utf-8' for UTF-8 encoded text)."
   ]
  },
  {
   "cell_type": "markdown",
   "metadata": {},
   "source": [
    "# squeeze \n",
    "If the parsed data only contains one column, return a Series.\n",
    "# thousands \n",
    "Separator for thousands (e.g., ',' or '.')."
   ]
  },
  {
   "cell_type": "markdown",
   "metadata": {},
   "source": [
    "# Reading Text Files in Pieces"
   ]
  },
  {
   "cell_type": "code",
   "execution_count": 10,
   "metadata": {},
   "outputs": [
    {
     "data": {
      "text/html": [
       "<div>\n",
       "<style scoped>\n",
       "    .dataframe tbody tr th:only-of-type {\n",
       "        vertical-align: middle;\n",
       "    }\n",
       "\n",
       "    .dataframe tbody tr th {\n",
       "        vertical-align: top;\n",
       "    }\n",
       "\n",
       "    .dataframe thead th {\n",
       "        text-align: right;\n",
       "    }\n",
       "</style>\n",
       "<table border=\"1\" class=\"dataframe\">\n",
       "  <thead>\n",
       "    <tr style=\"text-align: right;\">\n",
       "      <th></th>\n",
       "      <th>Unnamed: 0</th>\n",
       "      <th>State</th>\n",
       "      <th>ZipCode</th>\n",
       "      <th>TaxRegionName</th>\n",
       "      <th>StateRate</th>\n",
       "      <th>EstimatedCombinedRate</th>\n",
       "      <th>EstimatedCountyRate</th>\n",
       "      <th>EstimatedCityRate</th>\n",
       "      <th>EstimatedSpecialRate</th>\n",
       "      <th>RiskLevel</th>\n",
       "    </tr>\n",
       "  </thead>\n",
       "  <tbody>\n",
       "    <tr>\n",
       "      <th>0</th>\n",
       "      <td>0</td>\n",
       "      <td>AK</td>\n",
       "      <td>one</td>\n",
       "      <td>ANCHORAGE BOROUGH</td>\n",
       "      <td>0.0</td>\n",
       "      <td>0.0</td>\n",
       "      <td>0.0</td>\n",
       "      <td>NaN</td>\n",
       "      <td>0.0</td>\n",
       "      <td>1</td>\n",
       "    </tr>\n",
       "    <tr>\n",
       "      <th>1</th>\n",
       "      <td>1</td>\n",
       "      <td>AK</td>\n",
       "      <td>one</td>\n",
       "      <td>ANCHORAGE BOROUGH</td>\n",
       "      <td>0.0</td>\n",
       "      <td>NaN</td>\n",
       "      <td>0.0</td>\n",
       "      <td>0.0</td>\n",
       "      <td>0.0</td>\n",
       "      <td>2</td>\n",
       "    </tr>\n",
       "    <tr>\n",
       "      <th>2</th>\n",
       "      <td>2</td>\n",
       "      <td>AK</td>\n",
       "      <td>two</td>\n",
       "      <td>ANCHORAGE BOROUGH</td>\n",
       "      <td>0.0</td>\n",
       "      <td>0.0</td>\n",
       "      <td>NaN</td>\n",
       "      <td>0.0</td>\n",
       "      <td>NaN</td>\n",
       "      <td>3</td>\n",
       "    </tr>\n",
       "    <tr>\n",
       "      <th>3</th>\n",
       "      <td>3</td>\n",
       "      <td>AK</td>\n",
       "      <td>two</td>\n",
       "      <td>ANCHORAGE BOROUGH</td>\n",
       "      <td>NaN</td>\n",
       "      <td>0.0</td>\n",
       "      <td>0.0</td>\n",
       "      <td>0.0</td>\n",
       "      <td>0.0</td>\n",
       "      <td>4</td>\n",
       "    </tr>\n",
       "  </tbody>\n",
       "</table>\n",
       "</div>"
      ],
      "text/plain": [
       "   Unnamed: 0 State ZipCode      TaxRegionName  StateRate  \\\n",
       "0           0    AK     one  ANCHORAGE BOROUGH        0.0   \n",
       "1           1    AK     one  ANCHORAGE BOROUGH        0.0   \n",
       "2           2    AK     two  ANCHORAGE BOROUGH        0.0   \n",
       "3           3    AK     two  ANCHORAGE BOROUGH        NaN   \n",
       "\n",
       "   EstimatedCombinedRate  EstimatedCountyRate  EstimatedCityRate  \\\n",
       "0                    0.0                  0.0                NaN   \n",
       "1                    NaN                  0.0                0.0   \n",
       "2                    0.0                  NaN                0.0   \n",
       "3                    0.0                  0.0                0.0   \n",
       "\n",
       "   EstimatedSpecialRate  RiskLevel  \n",
       "0                   0.0          1  \n",
       "1                   0.0          2  \n",
       "2                   NaN          3  \n",
       "3                   0.0          4  "
      ]
     },
     "execution_count": 10,
     "metadata": {},
     "output_type": "execute_result"
    }
   ],
   "source": [
    "pd.options.display.max_rows = 10 # display maximum 10 rows in output\n",
    "pd.read_csv('TAXRATES1.csv')"
   ]
  },
  {
   "cell_type": "code",
   "execution_count": 11,
   "metadata": {},
   "outputs": [
    {
     "data": {
      "text/html": [
       "<div>\n",
       "<style scoped>\n",
       "    .dataframe tbody tr th:only-of-type {\n",
       "        vertical-align: middle;\n",
       "    }\n",
       "\n",
       "    .dataframe tbody tr th {\n",
       "        vertical-align: top;\n",
       "    }\n",
       "\n",
       "    .dataframe thead th {\n",
       "        text-align: right;\n",
       "    }\n",
       "</style>\n",
       "<table border=\"1\" class=\"dataframe\">\n",
       "  <thead>\n",
       "    <tr style=\"text-align: right;\">\n",
       "      <th></th>\n",
       "      <th>Unnamed: 0</th>\n",
       "      <th>State</th>\n",
       "      <th>ZipCode</th>\n",
       "      <th>TaxRegionName</th>\n",
       "      <th>StateRate</th>\n",
       "      <th>EstimatedCombinedRate</th>\n",
       "      <th>EstimatedCountyRate</th>\n",
       "      <th>EstimatedCityRate</th>\n",
       "      <th>EstimatedSpecialRate</th>\n",
       "      <th>RiskLevel</th>\n",
       "    </tr>\n",
       "  </thead>\n",
       "  <tbody>\n",
       "    <tr>\n",
       "      <th>0</th>\n",
       "      <td>0</td>\n",
       "      <td>AK</td>\n",
       "      <td>one</td>\n",
       "      <td>ANCHORAGE BOROUGH</td>\n",
       "      <td>0</td>\n",
       "      <td>0.0</td>\n",
       "      <td>0</td>\n",
       "      <td>NaN</td>\n",
       "      <td>0</td>\n",
       "      <td>1</td>\n",
       "    </tr>\n",
       "    <tr>\n",
       "      <th>1</th>\n",
       "      <td>1</td>\n",
       "      <td>AK</td>\n",
       "      <td>one</td>\n",
       "      <td>ANCHORAGE BOROUGH</td>\n",
       "      <td>0</td>\n",
       "      <td>NaN</td>\n",
       "      <td>0</td>\n",
       "      <td>0.0</td>\n",
       "      <td>0</td>\n",
       "      <td>2</td>\n",
       "    </tr>\n",
       "  </tbody>\n",
       "</table>\n",
       "</div>"
      ],
      "text/plain": [
       "   Unnamed: 0 State ZipCode      TaxRegionName  StateRate  \\\n",
       "0           0    AK     one  ANCHORAGE BOROUGH          0   \n",
       "1           1    AK     one  ANCHORAGE BOROUGH          0   \n",
       "\n",
       "   EstimatedCombinedRate  EstimatedCountyRate  EstimatedCityRate  \\\n",
       "0                    0.0                    0                NaN   \n",
       "1                    NaN                    0                0.0   \n",
       "\n",
       "   EstimatedSpecialRate  RiskLevel  \n",
       "0                     0          1  \n",
       "1                     0          2  "
      ]
     },
     "execution_count": 11,
     "metadata": {},
     "output_type": "execute_result"
    }
   ],
   "source": [
    "pd.read_csv('TAXRATES1.csv', nrows=2) # load 2 rows data from file"
   ]
  },
  {
   "cell_type": "code",
   "execution_count": 12,
   "metadata": {},
   "outputs": [
    {
     "name": "stdout",
     "output_type": "stream",
     "text": [
      "   Unnamed: 0 State ZipCode      TaxRegionName  StateRate  \\\n",
      "0           0    AK     one  ANCHORAGE BOROUGH          0   \n",
      "1           1    AK     one  ANCHORAGE BOROUGH          0   \n",
      "\n",
      "   EstimatedCombinedRate  EstimatedCountyRate  EstimatedCityRate  \\\n",
      "0                    0.0                    0                NaN   \n",
      "1                    NaN                    0                0.0   \n",
      "\n",
      "   EstimatedSpecialRate  RiskLevel  \n",
      "0                     0          1  \n",
      "1                     0          2  \n",
      "   Unnamed: 0 State ZipCode      TaxRegionName  StateRate  \\\n",
      "2           2    AK     two  ANCHORAGE BOROUGH        0.0   \n",
      "3           3    AK     two  ANCHORAGE BOROUGH        NaN   \n",
      "\n",
      "   EstimatedCombinedRate  EstimatedCountyRate  EstimatedCityRate  \\\n",
      "2                      0                  NaN                  0   \n",
      "3                      0                  0.0                  0   \n",
      "\n",
      "   EstimatedSpecialRate  RiskLevel  \n",
      "2                   NaN          3  \n",
      "3                   0.0          4  \n"
     ]
    }
   ],
   "source": [
    "chunkread = pd.read_csv('TAXRATES1.csv', chunksize=2) # To read a file in pieces, specify a chunksize as a number of rows\n",
    "for i in chunkread:\n",
    "    print(i)"
   ]
  },
  {
   "cell_type": "code",
   "execution_count": 13,
   "metadata": {},
   "outputs": [
    {
     "data": {
      "text/plain": [
       "<_csv.reader at 0x2b381ec6db0>"
      ]
     },
     "execution_count": 13,
     "metadata": {},
     "output_type": "execute_result"
    }
   ],
   "source": [
    "import csv\n",
    "# For any file with a single-character delimiter, you can use Python’s built-in csv module.\n",
    "# To use it, pass any open file or file-like object to csv.reader:\n",
    "f = open('TAXRATES1.csv')\n",
    "reader = csv.reader(f)\n",
    "# reader = list(csv.reader(f)) # Without loop\n",
    "reader"
   ]
  },
  {
   "cell_type": "code",
   "execution_count": 14,
   "metadata": {},
   "outputs": [
    {
     "name": "stdout",
     "output_type": "stream",
     "text": [
      "['', 'State', 'ZipCode', 'TaxRegionName', 'StateRate', 'EstimatedCombinedRate', 'EstimatedCountyRate', 'EstimatedCityRate', 'EstimatedSpecialRate', 'RiskLevel']\n",
      "['0', 'AK', 'one', 'ANCHORAGE BOROUGH', '0', '0', '0', '', '0', '1']\n",
      "['1', 'AK', 'one', 'ANCHORAGE BOROUGH', '0', '', '0', '0', '0', '2']\n",
      "['2', 'AK', 'two', 'ANCHORAGE BOROUGH', '0', '0', '', '0', '', '3']\n",
      "['3', 'AK', 'two', 'ANCHORAGE BOROUGH', '', '0', '0', '0', '0', '4']\n"
     ]
    }
   ],
   "source": [
    "for line in reader:\n",
    "    print(line)"
   ]
  },
  {
   "cell_type": "code",
   "execution_count": 15,
   "metadata": {},
   "outputs": [
    {
     "data": {
      "text/plain": [
       "[['',\n",
       "  'State',\n",
       "  'ZipCode',\n",
       "  'TaxRegionName',\n",
       "  'StateRate',\n",
       "  'EstimatedCombinedRate',\n",
       "  'EstimatedCountyRate',\n",
       "  'EstimatedCityRate',\n",
       "  'EstimatedSpecialRate',\n",
       "  'RiskLevel'],\n",
       " ['0', 'AK', 'one', 'ANCHORAGE BOROUGH', '0', '0', '0', '', '0', '1'],\n",
       " ['1', 'AK', 'one', 'ANCHORAGE BOROUGH', '0', '', '0', '0', '0', '2'],\n",
       " ['2', 'AK', 'two', 'ANCHORAGE BOROUGH', '0', '0', '', '0', '', '3'],\n",
       " ['3', 'AK', 'two', 'ANCHORAGE BOROUGH', '', '0', '0', '0', '0', '4']]"
      ]
     },
     "execution_count": 15,
     "metadata": {},
     "output_type": "execute_result"
    }
   ],
   "source": [
    "with open('TAXRATES1.csv') as f:\n",
    "    lines = list(csv.reader(f))\n",
    "lines"
   ]
  },
  {
   "cell_type": "code",
   "execution_count": 16,
   "metadata": {},
   "outputs": [
    {
     "data": {
      "text/plain": [
       "{'': ('0', '1', '2', '3'),\n",
       " 'State': ('AK', 'AK', 'AK', 'AK'),\n",
       " 'ZipCode': ('one', 'one', 'two', 'two'),\n",
       " 'TaxRegionName': ('ANCHORAGE BOROUGH',\n",
       "  'ANCHORAGE BOROUGH',\n",
       "  'ANCHORAGE BOROUGH',\n",
       "  'ANCHORAGE BOROUGH'),\n",
       " 'StateRate': ('0', '0', '0', ''),\n",
       " 'EstimatedCombinedRate': ('0', '', '0', '0'),\n",
       " 'EstimatedCountyRate': ('0', '0', '', '0'),\n",
       " 'EstimatedCityRate': ('', '0', '0', '0'),\n",
       " 'EstimatedSpecialRate': ('0', '0', '', '0'),\n",
       " 'RiskLevel': ('1', '2', '3', '4')}"
      ]
     },
     "execution_count": 16,
     "metadata": {},
     "output_type": "execute_result"
    }
   ],
   "source": [
    "header, values = lines[0], lines[1:]\n",
    "data_dict = {h: v for h, v in zip(header, zip(*values))}\n",
    "data_dict"
   ]
  },
  {
   "cell_type": "markdown",
   "metadata": {},
   "source": [
    "# CSV dialect options\n",
    "## delimiter \n",
    "One-character string to separate fields; defaults to ','.\n",
    "## lineterminator \n",
    "Line terminator for writing; defaults to '\\r\\n'. Reader ignores this and recognizes cross-platform\n",
    "line terminators.\n",
    "## quotechar \n",
    "Quote character for fields with special characters (like a delimiter); default is '\"'."
   ]
  },
  {
   "cell_type": "markdown",
   "metadata": {},
   "source": [
    "## quoting \n",
    "Quoting convention. Options include csv.QUOTE_ALL (quote all fields), csv.QUOTE_MINI\n",
    "MAL (only fields with special characters like the delimiter), csv.QUOTE_NONNUMERIC, and\n",
    "csv.QUOTE_NONE (no quoting). See Python’s documentation for full details. Defaults to\n",
    "QUOTE_MINIMAL."
   ]
  },
  {
   "cell_type": "markdown",
   "metadata": {},
   "source": [
    "## skipinitialspace \n",
    "Ignore whitespace after each delimiter; default is False.\n",
    "## doublequote \n",
    "How to handle quoting character inside a field; if True, it is doubled (see online documentation\n",
    "for full detail and behavior).\n",
    "## escapechar \n",
    "String to escape the delimiter if quoting is set to csv.QUOTE_NONE; disabled by default"
   ]
  },
  {
   "cell_type": "markdown",
   "metadata": {},
   "source": [
    "# JSON Data \n",
    "## (JavaScript Object Notation)"
   ]
  },
  {
   "cell_type": "code",
   "execution_count": 17,
   "metadata": {},
   "outputs": [
    {
     "name": "stdout",
     "output_type": "stream",
     "text": [
      "\n",
      "{\"name\": \"Wes\",\n",
      "\"places_lived\": [\"United States\", \"Spain\", \"Germany\"],\n",
      "\"pet\": null,\n",
      "\"siblings\": [{\"name\": \"Scott\", \"age\": 30, \"pets\": [\"Zeus\", \"Zuko\"]},\n",
      "{\"name\": \"Katie\", \"age\": 38,\n",
      "\"pets\": [\"Sixes\", \"Stache\", \"Cisco\"]}]\n",
      "}\n",
      "\n"
     ]
    }
   ],
   "source": [
    "obj = \"\"\"\n",
    "{\"name\": \"Wes\",\n",
    "\"places_lived\": [\"United States\", \"Spain\", \"Germany\"],\n",
    "\"pet\": null,\n",
    "\"siblings\": [{\"name\": \"Scott\", \"age\": 30, \"pets\": [\"Zeus\", \"Zuko\"]},\n",
    "{\"name\": \"Katie\", \"age\": 38,\n",
    "\"pets\": [\"Sixes\", \"Stache\", \"Cisco\"]}]\n",
    "}\n",
    "\"\"\"\n",
    "print(obj)"
   ]
  },
  {
   "cell_type": "code",
   "execution_count": 18,
   "metadata": {},
   "outputs": [
    {
     "data": {
      "text/plain": [
       "{'name': 'Wes',\n",
       " 'places_lived': ['United States', 'Spain', 'Germany'],\n",
       " 'pet': None,\n",
       " 'siblings': [{'name': 'Scott', 'age': 30, 'pets': ['Zeus', 'Zuko']},\n",
       "  {'name': 'Katie', 'age': 38, 'pets': ['Sixes', 'Stache', 'Cisco']}]}"
      ]
     },
     "execution_count": 18,
     "metadata": {},
     "output_type": "execute_result"
    }
   ],
   "source": [
    "import json\n",
    "result = json.loads(obj)\n",
    "result"
   ]
  },
  {
   "cell_type": "code",
   "execution_count": 19,
   "metadata": {},
   "outputs": [
    {
     "data": {
      "text/plain": [
       "'{\"name\": \"Wes\", \"places_lived\": [\"United States\", \"Spain\", \"Germany\"], \"pet\": null, \"siblings\": [{\"name\": \"Scott\", \"age\": 30, \"pets\": [\"Zeus\", \"Zuko\"]}, {\"name\": \"Katie\", \"age\": 38, \"pets\": [\"Sixes\", \"Stache\", \"Cisco\"]}]}'"
      ]
     },
     "execution_count": 19,
     "metadata": {},
     "output_type": "execute_result"
    }
   ],
   "source": [
    "asjson = json.dumps(result)\n",
    "asjson"
   ]
  },
  {
   "cell_type": "code",
   "execution_count": 20,
   "metadata": {},
   "outputs": [
    {
     "data": {
      "text/html": [
       "<div>\n",
       "<style scoped>\n",
       "    .dataframe tbody tr th:only-of-type {\n",
       "        vertical-align: middle;\n",
       "    }\n",
       "\n",
       "    .dataframe tbody tr th {\n",
       "        vertical-align: top;\n",
       "    }\n",
       "\n",
       "    .dataframe thead th {\n",
       "        text-align: right;\n",
       "    }\n",
       "</style>\n",
       "<table border=\"1\" class=\"dataframe\">\n",
       "  <thead>\n",
       "    <tr style=\"text-align: right;\">\n",
       "      <th></th>\n",
       "      <th>name</th>\n",
       "      <th>age</th>\n",
       "    </tr>\n",
       "  </thead>\n",
       "  <tbody>\n",
       "    <tr>\n",
       "      <th>0</th>\n",
       "      <td>Scott</td>\n",
       "      <td>30</td>\n",
       "    </tr>\n",
       "    <tr>\n",
       "      <th>1</th>\n",
       "      <td>Katie</td>\n",
       "      <td>38</td>\n",
       "    </tr>\n",
       "  </tbody>\n",
       "</table>\n",
       "</div>"
      ],
      "text/plain": [
       "    name  age\n",
       "0  Scott   30\n",
       "1  Katie   38"
      ]
     },
     "execution_count": 20,
     "metadata": {},
     "output_type": "execute_result"
    }
   ],
   "source": [
    "siblings = pd.DataFrame(result['siblings'], columns=['name', 'age'])\n",
    "siblings"
   ]
  },
  {
   "cell_type": "markdown",
   "metadata": {},
   "source": [
    "# read_table"
   ]
  },
  {
   "cell_type": "markdown",
   "metadata": {},
   "source": [
    "Load delimited data from a file, URL, or file-like object; use tab ('\\t') as default delimiter"
   ]
  },
  {
   "cell_type": "code",
   "execution_count": 21,
   "metadata": {},
   "outputs": [
    {
     "name": "stderr",
     "output_type": "stream",
     "text": [
      "C:\\ProgramData\\Anaconda3\\lib\\site-packages\\ipykernel_launcher.py:1: FutureWarning: read_table is deprecated, use read_csv instead, passing sep='\\t'.\n",
      "  \"\"\"Entry point for launching an IPython kernel.\n"
     ]
    }
   ],
   "source": [
    "txt = pd.read_table('TAXRATES1.csv')"
   ]
  },
  {
   "cell_type": "code",
   "execution_count": 22,
   "metadata": {},
   "outputs": [
    {
     "data": {
      "text/html": [
       "<div>\n",
       "<style scoped>\n",
       "    .dataframe tbody tr th:only-of-type {\n",
       "        vertical-align: middle;\n",
       "    }\n",
       "\n",
       "    .dataframe tbody tr th {\n",
       "        vertical-align: top;\n",
       "    }\n",
       "\n",
       "    .dataframe thead th {\n",
       "        text-align: right;\n",
       "    }\n",
       "</style>\n",
       "<table border=\"1\" class=\"dataframe\">\n",
       "  <thead>\n",
       "    <tr style=\"text-align: right;\">\n",
       "      <th></th>\n",
       "      <th>,State,ZipCode,TaxRegionName,StateRate,EstimatedCombinedRate,EstimatedCountyRate,EstimatedCityRate,EstimatedSpecialRate,RiskLevel</th>\n",
       "    </tr>\n",
       "  </thead>\n",
       "  <tbody>\n",
       "    <tr>\n",
       "      <th>0</th>\n",
       "      <td>0,AK,one,ANCHORAGE BOROUGH,0,0,0,,0,1</td>\n",
       "    </tr>\n",
       "    <tr>\n",
       "      <th>1</th>\n",
       "      <td>1,AK,one,ANCHORAGE BOROUGH,0,,0,0,0,2</td>\n",
       "    </tr>\n",
       "    <tr>\n",
       "      <th>2</th>\n",
       "      <td>2,AK,two,ANCHORAGE BOROUGH,0,0,,0,,3</td>\n",
       "    </tr>\n",
       "    <tr>\n",
       "      <th>3</th>\n",
       "      <td>3,AK,two,ANCHORAGE BOROUGH,,0,0,0,0,4</td>\n",
       "    </tr>\n",
       "  </tbody>\n",
       "</table>\n",
       "</div>"
      ],
      "text/plain": [
       "  ,State,ZipCode,TaxRegionName,StateRate,EstimatedCombinedRate,EstimatedCountyRate,EstimatedCityRate,EstimatedSpecialRate,RiskLevel\n",
       "0              0,AK,one,ANCHORAGE BOROUGH,0,0,0,,0,1                                                                               \n",
       "1              1,AK,one,ANCHORAGE BOROUGH,0,,0,0,0,2                                                                               \n",
       "2               2,AK,two,ANCHORAGE BOROUGH,0,0,,0,,3                                                                               \n",
       "3              3,AK,two,ANCHORAGE BOROUGH,,0,0,0,0,4                                                                               "
      ]
     },
     "execution_count": 22,
     "metadata": {},
     "output_type": "execute_result"
    }
   ],
   "source": [
    "txt"
   ]
  },
  {
   "cell_type": "code",
   "execution_count": 23,
   "metadata": {},
   "outputs": [],
   "source": [
    "fwf = pd.read_fwf('TAXRATES1.csv')"
   ]
  },
  {
   "cell_type": "markdown",
   "metadata": {},
   "source": [
    "# read_fwf\n",
    "## Read data in fixed-width column format (i.e., no delimiters)\n",
    "Means same as file"
   ]
  },
  {
   "cell_type": "code",
   "execution_count": 24,
   "metadata": {},
   "outputs": [
    {
     "data": {
      "text/html": [
       "<div>\n",
       "<style scoped>\n",
       "    .dataframe tbody tr th:only-of-type {\n",
       "        vertical-align: middle;\n",
       "    }\n",
       "\n",
       "    .dataframe tbody tr th {\n",
       "        vertical-align: top;\n",
       "    }\n",
       "\n",
       "    .dataframe thead th {\n",
       "        text-align: right;\n",
       "    }\n",
       "</style>\n",
       "<table border=\"1\" class=\"dataframe\">\n",
       "  <thead>\n",
       "    <tr style=\"text-align: right;\">\n",
       "      <th></th>\n",
       "      <th>,State,ZipCode,TaxRegionName,StateRate,EstimatedCombinedRate,EstimatedCountyRate,EstimatedCityRate,EstimatedSpecialRate,RiskLevel</th>\n",
       "    </tr>\n",
       "  </thead>\n",
       "  <tbody>\n",
       "    <tr>\n",
       "      <th>0</th>\n",
       "      <td>0,AK,one,ANCHORAGE BOROUGH,0,0,0,,0,1</td>\n",
       "    </tr>\n",
       "    <tr>\n",
       "      <th>1</th>\n",
       "      <td>1,AK,one,ANCHORAGE BOROUGH,0,,0,0,0,2</td>\n",
       "    </tr>\n",
       "    <tr>\n",
       "      <th>2</th>\n",
       "      <td>2,AK,two,ANCHORAGE BOROUGH,0,0,,0,,3</td>\n",
       "    </tr>\n",
       "    <tr>\n",
       "      <th>3</th>\n",
       "      <td>3,AK,two,ANCHORAGE BOROUGH,,0,0,0,0,4</td>\n",
       "    </tr>\n",
       "  </tbody>\n",
       "</table>\n",
       "</div>"
      ],
      "text/plain": [
       "  ,State,ZipCode,TaxRegionName,StateRate,EstimatedCombinedRate,EstimatedCountyRate,EstimatedCityRate,EstimatedSpecialRate,RiskLevel\n",
       "0              0,AK,one,ANCHORAGE BOROUGH,0,0,0,,0,1                                                                               \n",
       "1              1,AK,one,ANCHORAGE BOROUGH,0,,0,0,0,2                                                                               \n",
       "2               2,AK,two,ANCHORAGE BOROUGH,0,0,,0,,3                                                                               \n",
       "3              3,AK,two,ANCHORAGE BOROUGH,,0,0,0,0,4                                                                               "
      ]
     },
     "execution_count": 24,
     "metadata": {},
     "output_type": "execute_result"
    }
   ],
   "source": [
    "fwf"
   ]
  },
  {
   "cell_type": "markdown",
   "metadata": {},
   "source": [
    "# read_clipboard\n",
    "Version of read_table that reads data from the clipboard; useful for converting tables from web pages\n",
    "I copied this***==>\n",
    "Company\tContact\tCountry\n",
    "Alfreds\tMaria\tGermany\n",
    "Centro\tFrancisco\tMexico\n",
    "Ernst\tRoland\tAustria\n",
    "Island\tHelen\tUK\n",
    "Laughing\tYoshi\tCanada\n",
    "Magazzini\tGiovanni\tItaly"
   ]
  },
  {
   "cell_type": "code",
   "execution_count": 25,
   "metadata": {},
   "outputs": [
    {
     "data": {
      "text/html": [
       "<div>\n",
       "<style scoped>\n",
       "    .dataframe tbody tr th:only-of-type {\n",
       "        vertical-align: middle;\n",
       "    }\n",
       "\n",
       "    .dataframe tbody tr th {\n",
       "        vertical-align: top;\n",
       "    }\n",
       "\n",
       "    .dataframe thead th {\n",
       "        text-align: right;\n",
       "    }\n",
       "</style>\n",
       "<table border=\"1\" class=\"dataframe\">\n",
       "  <thead>\n",
       "    <tr style=\"text-align: right;\">\n",
       "      <th></th>\n",
       "      <th>Company</th>\n",
       "      <th>Contact</th>\n",
       "      <th>Country</th>\n",
       "    </tr>\n",
       "  </thead>\n",
       "  <tbody>\n",
       "    <tr>\n",
       "      <th>0</th>\n",
       "      <td>Alfreds</td>\n",
       "      <td>Maria</td>\n",
       "      <td>Germany</td>\n",
       "    </tr>\n",
       "    <tr>\n",
       "      <th>1</th>\n",
       "      <td>Centro</td>\n",
       "      <td>Francisco</td>\n",
       "      <td>Mexico</td>\n",
       "    </tr>\n",
       "    <tr>\n",
       "      <th>2</th>\n",
       "      <td>Ernst</td>\n",
       "      <td>Roland</td>\n",
       "      <td>Austria</td>\n",
       "    </tr>\n",
       "    <tr>\n",
       "      <th>3</th>\n",
       "      <td>Island</td>\n",
       "      <td>Helen</td>\n",
       "      <td>UK</td>\n",
       "    </tr>\n",
       "    <tr>\n",
       "      <th>4</th>\n",
       "      <td>Laughing</td>\n",
       "      <td>Yoshi</td>\n",
       "      <td>Canada</td>\n",
       "    </tr>\n",
       "    <tr>\n",
       "      <th>5</th>\n",
       "      <td>Magazzini</td>\n",
       "      <td>Giovanni</td>\n",
       "      <td>Italy</td>\n",
       "    </tr>\n",
       "  </tbody>\n",
       "</table>\n",
       "</div>"
      ],
      "text/plain": [
       "     Company    Contact  Country\n",
       "0    Alfreds      Maria  Germany\n",
       "1     Centro  Francisco   Mexico\n",
       "2      Ernst     Roland  Austria\n",
       "3     Island      Helen       UK\n",
       "4   Laughing      Yoshi   Canada\n",
       "5  Magazzini   Giovanni    Italy"
      ]
     },
     "execution_count": 25,
     "metadata": {},
     "output_type": "execute_result"
    }
   ],
   "source": [
    "clip = pd.read_clipboard()\n",
    "clip"
   ]
  },
  {
   "cell_type": "markdown",
   "metadata": {},
   "source": [
    "# read_excel\n",
    "Read tabular data from an Excel XLS or XLSX file\n",
    "excel ki xlsx ki file se data read krta hai."
   ]
  },
  {
   "cell_type": "markdown",
   "metadata": {},
   "source": [
    "# read_hdf\n",
    "Read HDF5 files written by pandas"
   ]
  },
  {
   "cell_type": "code",
   "execution_count": 26,
   "metadata": {},
   "outputs": [],
   "source": [
    "df = pd.DataFrame([[1, 1.0, 'a']], columns=['x', 'y', 'z'])\n",
    "df.to_hdf('./store.h5','data')"
   ]
  },
  {
   "cell_type": "code",
   "execution_count": 27,
   "metadata": {},
   "outputs": [
    {
     "data": {
      "text/html": [
       "<div>\n",
       "<style scoped>\n",
       "    .dataframe tbody tr th:only-of-type {\n",
       "        vertical-align: middle;\n",
       "    }\n",
       "\n",
       "    .dataframe tbody tr th {\n",
       "        vertical-align: top;\n",
       "    }\n",
       "\n",
       "    .dataframe thead th {\n",
       "        text-align: right;\n",
       "    }\n",
       "</style>\n",
       "<table border=\"1\" class=\"dataframe\">\n",
       "  <thead>\n",
       "    <tr style=\"text-align: right;\">\n",
       "      <th></th>\n",
       "      <th>x</th>\n",
       "      <th>y</th>\n",
       "      <th>z</th>\n",
       "    </tr>\n",
       "  </thead>\n",
       "  <tbody>\n",
       "    <tr>\n",
       "      <th>0</th>\n",
       "      <td>1</td>\n",
       "      <td>1.0</td>\n",
       "      <td>a</td>\n",
       "    </tr>\n",
       "  </tbody>\n",
       "</table>\n",
       "</div>"
      ],
      "text/plain": [
       "   x    y  z\n",
       "0  1  1.0  a"
      ]
     },
     "execution_count": 27,
     "metadata": {},
     "output_type": "execute_result"
    }
   ],
   "source": [
    "reread = pd.read_hdf('./store.h5')\n",
    "reread"
   ]
  },
  {
   "cell_type": "markdown",
   "metadata": {},
   "source": [
    "# read_html \n",
    "Read all tables found in the given HTML document\n",
    "HTML file"
   ]
  },
  {
   "cell_type": "code",
   "execution_count": null,
   "metadata": {},
   "outputs": [],
   "source": [
    "# %load index.html\n",
    "<!DOCTYPE html>\n",
    "<html>\n",
    "<head>\n",
    "<style>\n",
    "table {\n",
    "  font-family: arial, sans-serif;\n",
    "  border-collapse: collapse;\n",
    "  width: 100%;\n",
    "}\n",
    "\n",
    "td, th {\n",
    "  border: 1px solid #dddddd;\n",
    "  text-align: left;\n",
    "  padding: 8px;\n",
    "}\n",
    "\n",
    "tr:nth-child(even) {\n",
    "  background-color: #dddddd;\n",
    "}\n",
    "</style>\n",
    "</head>\n",
    "<body>\n",
    "\n",
    "<h2>HTML Table</h2>\n",
    "\n",
    "<table>\n",
    "  <tr>\n",
    "    <th>Company</th>\n",
    "    <th>Contact</th>\n",
    "    <th>Country</th>\n",
    "  </tr>\n",
    "  <tr>\n",
    "    <td>Alfreds</td>\n",
    "    <td>Maria</td>\n",
    "    <td>Germany</td>\n",
    "  </tr>\n",
    "  <tr>\n",
    "    <td>Centro</td>\n",
    "    <td>Francisco</td>\n",
    "    <td>Mexico</td>\n",
    "  </tr>\n",
    "  <tr>\n",
    "    <td>Ernst</td>\n",
    "    <td>Roland</td>\n",
    "    <td>Austria</td>\n",
    "  </tr>\n",
    "  <tr>\n",
    "    <td>Island</td>\n",
    "    <td>Helen</td>\n",
    "    <td>UK</td>\n",
    "  </tr>\n",
    "  <tr>\n",
    "    <td>Laughing</td>\n",
    "    <td>Yoshi</td>\n",
    "    <td>Canada</td>\n",
    "  </tr>\n",
    "  <tr>\n",
    "    <td>Magazzini</td>\n",
    "    <td>Giovanni</td>\n",
    "    <td>Italy</td>\n",
    "  </tr>\n",
    "</table>\n",
    "\n",
    "</body>\n",
    "</html>\n"
   ]
  },
  {
   "cell_type": "code",
   "execution_count": 29,
   "metadata": {},
   "outputs": [],
   "source": [
    "htmlReader = pd.read_html('index.html')"
   ]
  },
  {
   "cell_type": "markdown",
   "metadata": {},
   "source": [
    "# read_json \n",
    "Read data from a JSON (JavaScript Object Notation) string representation."
   ]
  },
  {
   "cell_type": "code",
   "execution_count": 30,
   "metadata": {},
   "outputs": [
    {
     "data": {
      "text/plain": [
       "{'columns': ['col 1', 'col 2'],\n",
       " 'index': ['row 1', 'row 2'],\n",
       " 'data': [['a', 'b'], ['c', 'd']]}"
      ]
     },
     "execution_count": 30,
     "metadata": {},
     "output_type": "execute_result"
    }
   ],
   "source": [
    "# %load data.json\n",
    "{\"columns\":[\"col 1\",\"col 2\"],\n",
    "  \"index\":[\"row 1\",\"row 2\"],\n",
    "  \"data\":[[\"a\",\"b\"],[\"c\",\"d\"]]}"
   ]
  },
  {
   "cell_type": "code",
   "execution_count": 31,
   "metadata": {},
   "outputs": [
    {
     "data": {
      "text/html": [
       "<div>\n",
       "<style scoped>\n",
       "    .dataframe tbody tr th:only-of-type {\n",
       "        vertical-align: middle;\n",
       "    }\n",
       "\n",
       "    .dataframe tbody tr th {\n",
       "        vertical-align: top;\n",
       "    }\n",
       "\n",
       "    .dataframe thead th {\n",
       "        text-align: right;\n",
       "    }\n",
       "</style>\n",
       "<table border=\"1\" class=\"dataframe\">\n",
       "  <thead>\n",
       "    <tr style=\"text-align: right;\">\n",
       "      <th></th>\n",
       "      <th>columns</th>\n",
       "      <th>index</th>\n",
       "      <th>data</th>\n",
       "    </tr>\n",
       "  </thead>\n",
       "  <tbody>\n",
       "    <tr>\n",
       "      <th>0</th>\n",
       "      <td>col 1</td>\n",
       "      <td>row 1</td>\n",
       "      <td>[a, b]</td>\n",
       "    </tr>\n",
       "    <tr>\n",
       "      <th>1</th>\n",
       "      <td>col 2</td>\n",
       "      <td>row 2</td>\n",
       "      <td>[c, d]</td>\n",
       "    </tr>\n",
       "  </tbody>\n",
       "</table>\n",
       "</div>"
      ],
      "text/plain": [
       "  columns  index    data\n",
       "0   col 1  row 1  [a, b]\n",
       "1   col 2  row 2  [c, d]"
      ]
     },
     "execution_count": 31,
     "metadata": {},
     "output_type": "execute_result"
    }
   ],
   "source": [
    "readJson = pd.read_json('data.json')\n",
    "readJson"
   ]
  },
  {
   "cell_type": "markdown",
   "metadata": {},
   "source": [
    "# read_msgpack \n",
    "Read pandas data encoded using the MessagePack binary format\n",
    "# read_pickle \n",
    "Read an arbitrary object stored in Python pickle format\n",
    "# read_sas \n",
    "Read a SAS dataset stored in one of the SAS system’s custom storage formats\n",
    "# read_sql \n",
    "Read the results of a SQL query (using SQLAlchemy) as a pandas DataFrame\n",
    "# read_stata \n",
    "Read a dataset from Stata file format\n",
    "# read_feather \n",
    "Read the Feather binary file format"
   ]
  },
  {
   "cell_type": "markdown",
   "metadata": {},
   "source": [
    "# XML and HTML: Web Scraping"
   ]
  },
  {
   "cell_type": "code",
   "execution_count": 32,
   "metadata": {},
   "outputs": [
    {
     "data": {
      "text/plain": [
       "[                                             Bank Name        City  ST   CERT  \\\n",
       " 0                                 The Enloe State Bank      Cooper  TX  10716   \n",
       " 1                  Washington Federal Bank for Savings     Chicago  IL  30570   \n",
       " 2      The Farmers and Merchants State Bank of Argonia     Argonia  KS  17719   \n",
       " 3                                  Fayette County Bank  Saint Elmo  IL   1802   \n",
       " 4    Guaranty Bank, (d/b/a BestBank in Georgia & Mi...   Milwaukee  WI  30003   \n",
       " ..                                                 ...         ...  ..    ...   \n",
       " 551                                 Superior Bank, FSB    Hinsdale  IL  32646   \n",
       " 552                                Malta National Bank       Malta  OH   6629   \n",
       " 553                    First Alliance Bank & Trust Co.  Manchester  NH  34264   \n",
       " 554                  National State Bank of Metropolis  Metropolis  IL   3815   \n",
       " 555                                   Bank of Honolulu    Honolulu  HI  21029   \n",
       " \n",
       "                    Acquiring Institution       Closing Date       Updated Date  \n",
       " 0                     Legend Bank, N. A.       May 31, 2019      June 18, 2019  \n",
       " 1                     Royal Savings Bank  December 15, 2017   February 1, 2019  \n",
       " 2                            Conway Bank   October 13, 2017  February 21, 2018  \n",
       " 3              United Fidelity Bank, fsb       May 26, 2017   January 29, 2019  \n",
       " 4    First-Citizens Bank & Trust Company        May 5, 2017     March 22, 2018  \n",
       " ..                                   ...                ...                ...  \n",
       " 551                Superior Federal, FSB      July 27, 2001    August 19, 2014  \n",
       " 552                    North Valley Bank        May 3, 2001  November 18, 2002  \n",
       " 553  Southern New Hampshire Bank & Trust   February 2, 2001  February 18, 2003  \n",
       " 554              Banterra Bank of Marion  December 14, 2000     March 17, 2005  \n",
       " 555                   Bank of the Orient   October 13, 2000     March 17, 2005  \n",
       " \n",
       " [556 rows x 7 columns]]"
      ]
     },
     "execution_count": 32,
     "metadata": {},
     "output_type": "execute_result"
    }
   ],
   "source": [
    "tables = pd.read_html('https://www.fdic.gov/bank/individual/failed/banklist.html')\n",
    "tables"
   ]
  },
  {
   "cell_type": "code",
   "execution_count": 33,
   "metadata": {},
   "outputs": [
    {
     "data": {
      "text/plain": [
       "1"
      ]
     },
     "execution_count": 33,
     "metadata": {},
     "output_type": "execute_result"
    }
   ],
   "source": [
    "len(tables)"
   ]
  },
  {
   "cell_type": "code",
   "execution_count": 34,
   "metadata": {},
   "outputs": [
    {
     "data": {
      "text/html": [
       "<div>\n",
       "<style scoped>\n",
       "    .dataframe tbody tr th:only-of-type {\n",
       "        vertical-align: middle;\n",
       "    }\n",
       "\n",
       "    .dataframe tbody tr th {\n",
       "        vertical-align: top;\n",
       "    }\n",
       "\n",
       "    .dataframe thead th {\n",
       "        text-align: right;\n",
       "    }\n",
       "</style>\n",
       "<table border=\"1\" class=\"dataframe\">\n",
       "  <thead>\n",
       "    <tr style=\"text-align: right;\">\n",
       "      <th></th>\n",
       "      <th>Bank Name</th>\n",
       "      <th>City</th>\n",
       "      <th>ST</th>\n",
       "      <th>CERT</th>\n",
       "      <th>Acquiring Institution</th>\n",
       "      <th>Closing Date</th>\n",
       "      <th>Updated Date</th>\n",
       "    </tr>\n",
       "  </thead>\n",
       "  <tbody>\n",
       "    <tr>\n",
       "      <th>0</th>\n",
       "      <td>The Enloe State Bank</td>\n",
       "      <td>Cooper</td>\n",
       "      <td>TX</td>\n",
       "      <td>10716</td>\n",
       "      <td>Legend Bank, N. A.</td>\n",
       "      <td>May 31, 2019</td>\n",
       "      <td>June 18, 2019</td>\n",
       "    </tr>\n",
       "    <tr>\n",
       "      <th>1</th>\n",
       "      <td>Washington Federal Bank for Savings</td>\n",
       "      <td>Chicago</td>\n",
       "      <td>IL</td>\n",
       "      <td>30570</td>\n",
       "      <td>Royal Savings Bank</td>\n",
       "      <td>December 15, 2017</td>\n",
       "      <td>February 1, 2019</td>\n",
       "    </tr>\n",
       "    <tr>\n",
       "      <th>2</th>\n",
       "      <td>The Farmers and Merchants State Bank of Argonia</td>\n",
       "      <td>Argonia</td>\n",
       "      <td>KS</td>\n",
       "      <td>17719</td>\n",
       "      <td>Conway Bank</td>\n",
       "      <td>October 13, 2017</td>\n",
       "      <td>February 21, 2018</td>\n",
       "    </tr>\n",
       "    <tr>\n",
       "      <th>3</th>\n",
       "      <td>Fayette County Bank</td>\n",
       "      <td>Saint Elmo</td>\n",
       "      <td>IL</td>\n",
       "      <td>1802</td>\n",
       "      <td>United Fidelity Bank, fsb</td>\n",
       "      <td>May 26, 2017</td>\n",
       "      <td>January 29, 2019</td>\n",
       "    </tr>\n",
       "    <tr>\n",
       "      <th>4</th>\n",
       "      <td>Guaranty Bank, (d/b/a BestBank in Georgia &amp; Mi...</td>\n",
       "      <td>Milwaukee</td>\n",
       "      <td>WI</td>\n",
       "      <td>30003</td>\n",
       "      <td>First-Citizens Bank &amp; Trust Company</td>\n",
       "      <td>May 5, 2017</td>\n",
       "      <td>March 22, 2018</td>\n",
       "    </tr>\n",
       "    <tr>\n",
       "      <th>...</th>\n",
       "      <td>...</td>\n",
       "      <td>...</td>\n",
       "      <td>...</td>\n",
       "      <td>...</td>\n",
       "      <td>...</td>\n",
       "      <td>...</td>\n",
       "      <td>...</td>\n",
       "    </tr>\n",
       "    <tr>\n",
       "      <th>551</th>\n",
       "      <td>Superior Bank, FSB</td>\n",
       "      <td>Hinsdale</td>\n",
       "      <td>IL</td>\n",
       "      <td>32646</td>\n",
       "      <td>Superior Federal, FSB</td>\n",
       "      <td>July 27, 2001</td>\n",
       "      <td>August 19, 2014</td>\n",
       "    </tr>\n",
       "    <tr>\n",
       "      <th>552</th>\n",
       "      <td>Malta National Bank</td>\n",
       "      <td>Malta</td>\n",
       "      <td>OH</td>\n",
       "      <td>6629</td>\n",
       "      <td>North Valley Bank</td>\n",
       "      <td>May 3, 2001</td>\n",
       "      <td>November 18, 2002</td>\n",
       "    </tr>\n",
       "    <tr>\n",
       "      <th>553</th>\n",
       "      <td>First Alliance Bank &amp; Trust Co.</td>\n",
       "      <td>Manchester</td>\n",
       "      <td>NH</td>\n",
       "      <td>34264</td>\n",
       "      <td>Southern New Hampshire Bank &amp; Trust</td>\n",
       "      <td>February 2, 2001</td>\n",
       "      <td>February 18, 2003</td>\n",
       "    </tr>\n",
       "    <tr>\n",
       "      <th>554</th>\n",
       "      <td>National State Bank of Metropolis</td>\n",
       "      <td>Metropolis</td>\n",
       "      <td>IL</td>\n",
       "      <td>3815</td>\n",
       "      <td>Banterra Bank of Marion</td>\n",
       "      <td>December 14, 2000</td>\n",
       "      <td>March 17, 2005</td>\n",
       "    </tr>\n",
       "    <tr>\n",
       "      <th>555</th>\n",
       "      <td>Bank of Honolulu</td>\n",
       "      <td>Honolulu</td>\n",
       "      <td>HI</td>\n",
       "      <td>21029</td>\n",
       "      <td>Bank of the Orient</td>\n",
       "      <td>October 13, 2000</td>\n",
       "      <td>March 17, 2005</td>\n",
       "    </tr>\n",
       "  </tbody>\n",
       "</table>\n",
       "<p>556 rows × 7 columns</p>\n",
       "</div>"
      ],
      "text/plain": [
       "                                             Bank Name        City  ST   CERT  \\\n",
       "0                                 The Enloe State Bank      Cooper  TX  10716   \n",
       "1                  Washington Federal Bank for Savings     Chicago  IL  30570   \n",
       "2      The Farmers and Merchants State Bank of Argonia     Argonia  KS  17719   \n",
       "3                                  Fayette County Bank  Saint Elmo  IL   1802   \n",
       "4    Guaranty Bank, (d/b/a BestBank in Georgia & Mi...   Milwaukee  WI  30003   \n",
       "..                                                 ...         ...  ..    ...   \n",
       "551                                 Superior Bank, FSB    Hinsdale  IL  32646   \n",
       "552                                Malta National Bank       Malta  OH   6629   \n",
       "553                    First Alliance Bank & Trust Co.  Manchester  NH  34264   \n",
       "554                  National State Bank of Metropolis  Metropolis  IL   3815   \n",
       "555                                   Bank of Honolulu    Honolulu  HI  21029   \n",
       "\n",
       "                   Acquiring Institution       Closing Date       Updated Date  \n",
       "0                     Legend Bank, N. A.       May 31, 2019      June 18, 2019  \n",
       "1                     Royal Savings Bank  December 15, 2017   February 1, 2019  \n",
       "2                            Conway Bank   October 13, 2017  February 21, 2018  \n",
       "3              United Fidelity Bank, fsb       May 26, 2017   January 29, 2019  \n",
       "4    First-Citizens Bank & Trust Company        May 5, 2017     March 22, 2018  \n",
       "..                                   ...                ...                ...  \n",
       "551                Superior Federal, FSB      July 27, 2001    August 19, 2014  \n",
       "552                    North Valley Bank        May 3, 2001  November 18, 2002  \n",
       "553  Southern New Hampshire Bank & Trust   February 2, 2001  February 18, 2003  \n",
       "554              Banterra Bank of Marion  December 14, 2000     March 17, 2005  \n",
       "555                   Bank of the Orient   October 13, 2000     March 17, 2005  \n",
       "\n",
       "[556 rows x 7 columns]"
      ]
     },
     "execution_count": 34,
     "metadata": {},
     "output_type": "execute_result"
    }
   ],
   "source": [
    "failures = tables[0]\n",
    "failures"
   ]
  },
  {
   "cell_type": "code",
   "execution_count": 35,
   "metadata": {},
   "outputs": [
    {
     "data": {
      "text/html": [
       "<div>\n",
       "<style scoped>\n",
       "    .dataframe tbody tr th:only-of-type {\n",
       "        vertical-align: middle;\n",
       "    }\n",
       "\n",
       "    .dataframe tbody tr th {\n",
       "        vertical-align: top;\n",
       "    }\n",
       "\n",
       "    .dataframe thead th {\n",
       "        text-align: right;\n",
       "    }\n",
       "</style>\n",
       "<table border=\"1\" class=\"dataframe\">\n",
       "  <thead>\n",
       "    <tr style=\"text-align: right;\">\n",
       "      <th></th>\n",
       "      <th>Bank Name</th>\n",
       "      <th>City</th>\n",
       "      <th>ST</th>\n",
       "      <th>CERT</th>\n",
       "      <th>Acquiring Institution</th>\n",
       "      <th>Closing Date</th>\n",
       "      <th>Updated Date</th>\n",
       "    </tr>\n",
       "  </thead>\n",
       "  <tbody>\n",
       "    <tr>\n",
       "      <th>0</th>\n",
       "      <td>The Enloe State Bank</td>\n",
       "      <td>Cooper</td>\n",
       "      <td>TX</td>\n",
       "      <td>10716</td>\n",
       "      <td>Legend Bank, N. A.</td>\n",
       "      <td>May 31, 2019</td>\n",
       "      <td>June 18, 2019</td>\n",
       "    </tr>\n",
       "    <tr>\n",
       "      <th>1</th>\n",
       "      <td>Washington Federal Bank for Savings</td>\n",
       "      <td>Chicago</td>\n",
       "      <td>IL</td>\n",
       "      <td>30570</td>\n",
       "      <td>Royal Savings Bank</td>\n",
       "      <td>December 15, 2017</td>\n",
       "      <td>February 1, 2019</td>\n",
       "    </tr>\n",
       "    <tr>\n",
       "      <th>2</th>\n",
       "      <td>The Farmers and Merchants State Bank of Argonia</td>\n",
       "      <td>Argonia</td>\n",
       "      <td>KS</td>\n",
       "      <td>17719</td>\n",
       "      <td>Conway Bank</td>\n",
       "      <td>October 13, 2017</td>\n",
       "      <td>February 21, 2018</td>\n",
       "    </tr>\n",
       "    <tr>\n",
       "      <th>3</th>\n",
       "      <td>Fayette County Bank</td>\n",
       "      <td>Saint Elmo</td>\n",
       "      <td>IL</td>\n",
       "      <td>1802</td>\n",
       "      <td>United Fidelity Bank, fsb</td>\n",
       "      <td>May 26, 2017</td>\n",
       "      <td>January 29, 2019</td>\n",
       "    </tr>\n",
       "    <tr>\n",
       "      <th>4</th>\n",
       "      <td>Guaranty Bank, (d/b/a BestBank in Georgia &amp; Mi...</td>\n",
       "      <td>Milwaukee</td>\n",
       "      <td>WI</td>\n",
       "      <td>30003</td>\n",
       "      <td>First-Citizens Bank &amp; Trust Company</td>\n",
       "      <td>May 5, 2017</td>\n",
       "      <td>March 22, 2018</td>\n",
       "    </tr>\n",
       "  </tbody>\n",
       "</table>\n",
       "</div>"
      ],
      "text/plain": [
       "                                           Bank Name        City  ST   CERT  \\\n",
       "0                               The Enloe State Bank      Cooper  TX  10716   \n",
       "1                Washington Federal Bank for Savings     Chicago  IL  30570   \n",
       "2    The Farmers and Merchants State Bank of Argonia     Argonia  KS  17719   \n",
       "3                                Fayette County Bank  Saint Elmo  IL   1802   \n",
       "4  Guaranty Bank, (d/b/a BestBank in Georgia & Mi...   Milwaukee  WI  30003   \n",
       "\n",
       "                 Acquiring Institution       Closing Date       Updated Date  \n",
       "0                   Legend Bank, N. A.       May 31, 2019      June 18, 2019  \n",
       "1                   Royal Savings Bank  December 15, 2017   February 1, 2019  \n",
       "2                          Conway Bank   October 13, 2017  February 21, 2018  \n",
       "3            United Fidelity Bank, fsb       May 26, 2017   January 29, 2019  \n",
       "4  First-Citizens Bank & Trust Company        May 5, 2017     March 22, 2018  "
      ]
     },
     "execution_count": 35,
     "metadata": {},
     "output_type": "execute_result"
    }
   ],
   "source": [
    "failures.head()"
   ]
  },
  {
   "cell_type": "code",
   "execution_count": 36,
   "metadata": {},
   "outputs": [
    {
     "data": {
      "text/plain": [
       "0     2019-05-31\n",
       "1     2017-12-15\n",
       "2     2017-10-13\n",
       "3     2017-05-26\n",
       "4     2017-05-05\n",
       "         ...    \n",
       "551   2001-07-27\n",
       "552   2001-05-03\n",
       "553   2001-02-02\n",
       "554   2000-12-14\n",
       "555   2000-10-13\n",
       "Name: Closing Date, Length: 556, dtype: datetime64[ns]"
      ]
     },
     "execution_count": 36,
     "metadata": {},
     "output_type": "execute_result"
    }
   ],
   "source": [
    "close_timestamps = pd.to_datetime(failures['Closing Date'])\n",
    "close_timestamps"
   ]
  },
  {
   "cell_type": "code",
   "execution_count": 37,
   "metadata": {},
   "outputs": [
    {
     "data": {
      "text/plain": [
       "2009-10-30    9\n",
       "2010-08-20    8\n",
       "2010-04-16    8\n",
       "2010-10-22    7\n",
       "2010-04-30    7\n",
       "             ..\n",
       "2008-09-25    1\n",
       "2011-03-25    1\n",
       "2012-09-07    1\n",
       "2014-10-24    1\n",
       "2001-02-02    1\n",
       "Name: Closing Date, Length: 252, dtype: int64"
      ]
     },
     "execution_count": 37,
     "metadata": {},
     "output_type": "execute_result"
    }
   ],
   "source": [
    "dateCount = close_timestamps.dt.date.value_counts() #Count Dates in this column\n",
    "dayCount = close_timestamps.dt.day.value_counts() #Count Days in this column\n",
    "monthCount = close_timestamps.dt.month.value_counts() #Count months in this column\n",
    "yearCount = close_timestamps.dt.year.value_counts() #Count years in this column\n",
    "dateCount"
   ]
  },
  {
   "cell_type": "code",
   "execution_count": 38,
   "metadata": {},
   "outputs": [
    {
     "data": {
      "text/plain": [
       "23    31\n",
       "30    30\n",
       "19    30\n",
       "20    27\n",
       "17    23\n",
       "      ..\n",
       "12    10\n",
       "9     10\n",
       "31     9\n",
       "1      8\n",
       "3      4\n",
       "Name: Closing Date, Length: 31, dtype: int64"
      ]
     },
     "execution_count": 38,
     "metadata": {},
     "output_type": "execute_result"
    }
   ],
   "source": [
    "dayCount"
   ]
  },
  {
   "cell_type": "code",
   "execution_count": 39,
   "metadata": {},
   "outputs": [
    {
     "data": {
      "text/plain": [
       "7     74\n",
       "10    59\n",
       "4     59\n",
       "1     51\n",
       "5     44\n",
       "      ..\n",
       "3     40\n",
       "9     38\n",
       "6     36\n",
       "12    35\n",
       "11    35\n",
       "Name: Closing Date, Length: 12, dtype: int64"
      ]
     },
     "execution_count": 39,
     "metadata": {},
     "output_type": "execute_result"
    }
   ],
   "source": [
    "monthCount"
   ]
  },
  {
   "cell_type": "code",
   "execution_count": 40,
   "metadata": {},
   "outputs": [
    {
     "data": {
      "text/plain": [
       "2010    157\n",
       "2009    140\n",
       "2011     92\n",
       "2012     51\n",
       "2008     25\n",
       "       ... \n",
       "2004      4\n",
       "2007      3\n",
       "2003      3\n",
       "2000      2\n",
       "2019      1\n",
       "Name: Closing Date, Length: 17, dtype: int64"
      ]
     },
     "execution_count": 40,
     "metadata": {},
     "output_type": "execute_result"
    }
   ],
   "source": [
    "yearCount"
   ]
  },
  {
   "cell_type": "markdown",
   "metadata": {},
   "source": [
    "# Parsing XML with lxml.objectify\n",
    "## XML (eXtensible Markup Language)"
   ]
  },
  {
   "cell_type": "code",
   "execution_count": null,
   "metadata": {},
   "outputs": [],
   "source": [
    "from lxml import objectify\n",
    "parsed = objectify.parse(open('abc.xml'))\n",
    "root = parsed.getroot()"
   ]
  },
  {
   "cell_type": "code",
   "execution_count": null,
   "metadata": {},
   "outputs": [],
   "source": [
    "data = []\n",
    "skip_fields = ['PARENT_SEQ', 'INDICATOR_SEQ',\n",
    "'DESIRED_CHANGE', 'DECIMAL_PLACES']\n",
    "for elt in root.INDICATOR:\n",
    "    el_data = {}\n",
    "    for child in elt.getchildren():\n",
    "        if child.tag in skip_fields:\n",
    "            continue\n",
    "#         print(child.tag)\n",
    "#         print(child.pyval)\n",
    "        el_data[child.tag] = child.pyval\n",
    "    data.append(el_data)"
   ]
  },
  {
   "cell_type": "code",
   "execution_count": null,
   "metadata": {},
   "outputs": [],
   "source": [
    "data"
   ]
  },
  {
   "cell_type": "code",
   "execution_count": null,
   "metadata": {},
   "outputs": [],
   "source": [
    "from io import StringIO\n",
    "tag = '<a href=\"http://www.google.com\" target=\"_blank\">Google</a>'\n",
    "root = objectify.parse(StringIO(tag)).getroot()"
   ]
  },
  {
   "cell_type": "code",
   "execution_count": null,
   "metadata": {},
   "outputs": [],
   "source": [
    "root.get('href')"
   ]
  },
  {
   "cell_type": "code",
   "execution_count": null,
   "metadata": {},
   "outputs": [],
   "source": [
    "root.text"
   ]
  },
  {
   "cell_type": "code",
   "execution_count": null,
   "metadata": {},
   "outputs": [],
   "source": [
    "xlsx = pd.ExcelFile('Book1.xlsx')"
   ]
  },
  {
   "cell_type": "code",
   "execution_count": null,
   "metadata": {},
   "outputs": [],
   "source": [
    "pd.read_excel(xlsx, 'Sheet1')"
   ]
  },
  {
   "cell_type": "code",
   "execution_count": null,
   "metadata": {},
   "outputs": [],
   "source": [
    "writer = pd.ExcelWriter('Book1.xlsx')\n",
    "failures.to_excel(writer,'Sheet1')\n",
    "writer.save()"
   ]
  },
  {
   "cell_type": "markdown",
   "metadata": {},
   "source": [
    "# Interacting with Web APIs"
   ]
  },
  {
   "cell_type": "code",
   "execution_count": null,
   "metadata": {},
   "outputs": [],
   "source": [
    "import requests"
   ]
  },
  {
   "cell_type": "code",
   "execution_count": null,
   "metadata": {},
   "outputs": [],
   "source": [
    "url = 'https://api.github.com/repos/pandas-dev/pandas/issues'\n",
    "resp = requests.get(url)"
   ]
  },
  {
   "cell_type": "code",
   "execution_count": null,
   "metadata": {},
   "outputs": [],
   "source": [
    "data = resp.json()\n",
    "data"
   ]
  },
  {
   "cell_type": "code",
   "execution_count": null,
   "metadata": {},
   "outputs": [],
   "source": [
    "data[0]['title']"
   ]
  },
  {
   "cell_type": "code",
   "execution_count": null,
   "metadata": {},
   "outputs": [],
   "source": [
    "issues = pd.DataFrame(data, columns=['number', 'title','labels', 'state'])\n",
    "issues"
   ]
  },
  {
   "cell_type": "markdown",
   "metadata": {},
   "source": [
    "# Interacting with Databases"
   ]
  },
  {
   "cell_type": "code",
   "execution_count": null,
   "metadata": {},
   "outputs": [],
   "source": [
    "import sqlite3\n",
    "query = \"\"\"\n",
    "    CREATE TABLE test\n",
    "    (a VARCHAR(20), b VARCHAR(20),\n",
    "    c REAL, d INTEGER);\"\"\""
   ]
  },
  {
   "cell_type": "code",
   "execution_count": null,
   "metadata": {},
   "outputs": [],
   "source": [
    "print(query)"
   ]
  },
  {
   "cell_type": "code",
   "execution_count": null,
   "metadata": {},
   "outputs": [],
   "source": [
    "con = sqlite3.connect('mydata.sqlite')"
   ]
  },
  {
   "cell_type": "code",
   "execution_count": null,
   "metadata": {},
   "outputs": [],
   "source": [
    "con.execute(query)"
   ]
  },
  {
   "cell_type": "code",
   "execution_count": null,
   "metadata": {},
   "outputs": [],
   "source": [
    "con.commit()"
   ]
  },
  {
   "cell_type": "code",
   "execution_count": null,
   "metadata": {},
   "outputs": [],
   "source": [
    "data = [('Atlanta', 'Georgia', 1.25, 6),\n",
    "('Tallahassee', 'Florida', 2.6, 3),\n",
    "('Sacramento', 'California', 1.7, 5)]\n",
    "stmt = \"INSERT INTO test VALUES(?, ?, ?, ?)\"\n",
    "con.executemany(stmt, data)\n",
    "con.commit()"
   ]
  },
  {
   "cell_type": "code",
   "execution_count": null,
   "metadata": {},
   "outputs": [],
   "source": [
    "cursor = con.execute('select * from test')\n",
    "rows = cursor.fetchall()\n",
    "rows"
   ]
  }
 ],
 "metadata": {
  "kernelspec": {
   "display_name": "Python 3",
   "language": "python",
   "name": "python3"
  },
  "language_info": {
   "codemirror_mode": {
    "name": "ipython",
    "version": 3
   },
   "file_extension": ".py",
   "mimetype": "text/x-python",
   "name": "python",
   "nbconvert_exporter": "python",
   "pygments_lexer": "ipython3",
   "version": "3.7.3"
  }
 },
 "nbformat": 4,
 "nbformat_minor": 2
}
